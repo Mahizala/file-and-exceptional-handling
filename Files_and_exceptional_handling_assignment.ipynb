{
  "nbformat": 4,
  "nbformat_minor": 0,
  "metadata": {
    "colab": {
      "provenance": []
    },
    "kernelspec": {
      "name": "python3",
      "display_name": "Python 3"
    },
    "language_info": {
      "name": "python"
    }
  },
  "cells": [
    {
      "cell_type": "markdown",
      "source": [
        "# Files and Exceptional handling- assignment"
      ],
      "metadata": {
        "id": "NaeJ0SBFxADr"
      }
    },
    {
      "cell_type": "markdown",
      "source": [
        "# Theory Questions-"
      ],
      "metadata": {
        "id": "cG6mAT3yg9Us"
      }
    },
    {
      "cell_type": "markdown",
      "source": [
        "**Q1.**What is the difference between interpreted and compiler language?\n",
        "\n",
        "-->Compiled languages (like C++) translate the entire program into machine code *before* running. This makes them fast. Interpreted languages (like Python) translate and execute code *line by line* at runtime, which can be slower but offers more flexibility. Python uses an intermediate bytecode step, but it's still considered an interpreted language because the bytecode is executed by the Python Virtual Machine (PVM) at runtime.  Essentially, compiled languages are like having a complete translated book, while interpreted languages are like having a translator reading and translating line by line as you listen.\n"
      ],
      "metadata": {
        "id": "bI6T_Cs6hDjf"
      }
    },
    {
      "cell_type": "markdown",
      "source": [
        "**Q2.**What is exception handling in python?\n",
        "\n",
        "-->Exception handling in Python is a mechanism to gracefully manage errors that occur during program execution.  It uses `try...except` blocks to catch potential errors (exceptions) and execute specific code to handle them, preventing the program from crashing.  This allows you to anticipate problems, like file not found or invalid input, and provide alternative actions or informative messages to the user.  `finally` blocks ensure code (like closing files) runs regardless of exceptions.\n"
      ],
      "metadata": {
        "id": "5Z7RoLlliom9"
      }
    },
    {
      "cell_type": "markdown",
      "source": [
        "**Q3.**What is the purpose of finally block in exception handling?\n",
        "\n",
        "-->The finally block in Python's exception handling ensures that a specific set of code is always executed, regardless of whether an exception was raised or caught.  Its primary purpose is to perform cleanup actions, like closing files, releasing resources, or network connections, guaranteeing these actions happen even if errors occur, preventing resource leaks.\n"
      ],
      "metadata": {
        "id": "otTijXjSjAJA"
      }
    },
    {
      "cell_type": "markdown",
      "source": [
        "**Q4.**What is logging in python?\n",
        "\n",
        "-->Logging in Python is a way to record events that occur during the execution of a program.  It's more sophisticated than just printing to the console.  Logging allows you to categorize messages by severity (debug, info, warning, error, critical), direct output to different files or streams, and control the format of log messages.  It's crucial for debugging, monitoring, and understanding the behavior of your applications, especially in production environments.\n"
      ],
      "metadata": {
        "id": "YTQ7McxgjrTA"
      }
    },
    {
      "cell_type": "markdown",
      "source": [
        "**Q5.**What is the significance of the _ _del_ _ method in python?\n",
        "\n",
        "-->The `__del__` method (also called a destructor) in Python is used for *finalization* of an object when it's about to be garbage collected.  Its significance lies in releasing external resources held by the object, such as file handles, network connections, or locks.  However, `__del__` is not always reliably called due to the nature of garbage collection, so it's generally best practice to manage resource release explicitly using `try...finally` or context managers (`with` statement) rather than relying on `__del__`.  Its use is discouraged in most cases.\n"
      ],
      "metadata": {
        "id": "aD4Q_sVOj6fB"
      }
    },
    {
      "cell_type": "markdown",
      "source": [
        "**Q6.**What is the difference between import and from ... import in python?\n",
        "\n",
        "-->`import module_name` imports the *entire* module. You then access its contents using `module_name.attribute`.  For example: `import math; print(math.sqrt(25))`.\n",
        "\n",
        "`from module_name import attribute1, attribute2` imports *specific* attributes (functions, classes, variables) directly into your namespace. You can then use them directly without the module prefix. For example: `from math import sqrt; print(sqrt(25))`.\n",
        "\n",
        "`from module_name import *` imports *everything* from the module. While convenient, it's generally discouraged as it can pollute your namespace and make it harder to track where names come from.  It can also lead to naming conflicts if different modules have attributes with the same name.\n"
      ],
      "metadata": {
        "id": "6dKqILHEkX2v"
      }
    },
    {
      "cell_type": "markdown",
      "source": [
        "**Q7.**How can you handle multiple exceptions in python?\n",
        "\n",
        "-->Multiple exception handling in Python lets you define separate code blocks to handle different types of errors. When an error occurs, Python executes the first matching block. This allows for specific responses to various errors, making programs more robust.\n"
      ],
      "metadata": {
        "id": "6AeWjL4IkzpV"
      }
    },
    {
      "cell_type": "markdown",
      "source": [
        "**Q8.**What is the purpose of with statement when handling a files in python?\n",
        "\n",
        "-->The `with` statement in Python is used for context management, particularly when working with resources like files. Its purpose is to ensure that resources are properly acquired and released, even if errors occur.  When used with files, the `with` statement guarantees that the file is automatically closed after the block of code within the `with` statement is executed, regardless of whether the code completed successfully or raised an exception. This prevents resource leaks and simplifies file handling by automating the closing process.\n"
      ],
      "metadata": {
        "id": "5ao2gZTnlSmP"
      }
    },
    {
      "cell_type": "markdown",
      "source": [
        "**Q9.**What is differencebetween multithreading and multiprocessing?\n",
        "\n",
        "-->\n",
        "*  **Multithreading:**\n",
        "    *  Multiple threads exist within a single process.\n",
        "    *   Best suited for I/O-bound tasks (waiting for network, file operations), as the GIL (Global Interpreter Lock) in CPython limits true parallelism for CPU-bound tasks.  While one thread waits, others can run.\n",
        "    *   Lightweight and relatively fast to create/switch between threads.\n",
        "\n",
        "*   **Multiprocessing:**\n",
        "    *   Multiple processes are created, each with its *own* Python interpreter and memory space.\n",
        "    *   Processes do *not* share memory directly, avoiding GIL limitations and allowing true parallelism on multi-core processors. Inter-process communication (IPC) is possible but adds overhead.\n",
        "    *   Best suited for CPU-bound/computationally intensive tasks that can benefit from using multiple cores.\n",
        "    *   Heavier than threads (more resources, slower to create/switch), but achieves true parallelism.\n",
        "\n",
        "*   **Key Difference:** Multithreading is about concurrency (managing multiple tasks seemingly at the same time), while multiprocessing is about parallelism (executing multiple tasks *simultaneously*).\n"
      ],
      "metadata": {
        "id": "X67VW1DImyo5"
      }
    },
    {
      "cell_type": "markdown",
      "source": [
        "**Q10.**What are the advantages of using logging in program?\n",
        "\n",
        "-->Using logging in a program offers several advantages:\n",
        "\n",
        "Detailed Information: Logging allows you to record a wide range of events, from minor details to critical errors, providing a comprehensive history of the program's execution.\n",
        "\n",
        "Categorization: Log messages can be categorized by severity (debug, info, warning, error, critical), making it easy to filter and prioritize information based on its importance.\n",
        "\n",
        "Flexibility: Logging output can be directed to different destinations (files, console, network) and formatted in various ways, adapting to specific needs.\n",
        "\n",
        "Debugging: Logging helps pinpoint the source of errors by providing context and tracing the sequence of events leading to the issue.\n",
        "\n",
        "Monitoring: In production environments, logging enables real-time monitoring of application health and performance by tracking key events and errors."
      ],
      "metadata": {
        "id": "tjs7WB7tlyDf"
      }
    },
    {
      "cell_type": "markdown",
      "source": [
        "**Q11.**What is memory management in python?\n",
        "\n",
        "-->Python's memory management handles allocating and deallocating memory for objects. It uses a private heap space and a garbage collector to automatically reclaim memory occupied by unused objects.  This frees developers from manual memory management, reducing the risk of memory leaks and making Python development easier.\n"
      ],
      "metadata": {
        "id": "4lUKtH02mmfe"
      }
    },
    {
      "cell_type": "markdown",
      "source": [
        "**Q12.**What are the basic steps involved in exception handling in python?\n",
        "\n",
        "-->\n",
        "1.  **`try` block:** Enclose the code that might raise an exception within a `try` block.\n",
        "2.  **`except` block(s):** Define one or more `except` blocks to handle specific exceptions.  Each `except` block specifies the type of exception it can handle.\n",
        "3.  **Exception matching:** When an exception occurs in the `try` block, Python searches for a matching `except` block.\n",
        "4.  **`except` block execution:** If a match is found, the code within that `except` block is executed.\n",
        "5.  **`else` block (optional):** An `else` block can be included. Its code executes *only* if no exceptions occur in the `try` block.\n",
        "6.  **`finally` block (optional):** A `finally` block contains code that *always* executes, regardless of whether an exception occurred or was handled.  It's used for cleanup tasks (closing files, releasing resources).\n"
      ],
      "metadata": {
        "id": "RVbWjTHdouIB"
      }
    },
    {
      "cell_type": "markdown",
      "source": [
        "**Q13.Why is memory management important in python?\n",
        "\n",
        "--> Importance of memory management in python are-\n",
        "*   **Prevents leaks:** Avoids accumulating unused memory, which can lead to crashes or slowdowns.\n",
        "*   **Efficient use:** Reclaims unused memory for reuse, maximizing available resources.\n",
        "*   **Program stability:** Contributes to reliable and predictable program behavior, preventing unexpected termination.\n",
        "*   **Performance:** Improves speed by optimizing memory allocation and deallocation.  Reduces overhead.\n",
        "*   **Simplified development:** Automatic garbage collection reduces developer burden and the risk of memory-related errors (e.g., dangling pointers).\n",
        "*   **Scalability:** Allows programs to handle larger datasets and more complex operations without running out of memory.\n",
        "*   **Security:** Prevents memory-related vulnerabilities that could be exploited by malicious actors.\n",
        "*   **Maintainability:**  Reduces the complexity of code by abstracting away manual memory management, making it easier to understand and maintain.\n"
      ],
      "metadata": {
        "id": "DjEmSMfpmW_w"
      }
    },
    {
      "cell_type": "markdown",
      "source": [
        "**Q14.**What is the role of try and exception handling in python?\n",
        "\n",
        "--> `try...except` blocks in Python manage errors (exceptions).  `try` encloses code that might cause an error.  `except` blocks define how to handle specific errors, preventing crashes and allowing the program to continue gracefully.\n"
      ],
      "metadata": {
        "id": "84iTc1Vmptss"
      }
    },
    {
      "cell_type": "markdown",
      "source": [
        "**Q15.**How does python's garbage collection system works?\n",
        "\n",
        "-->Python's garbage collection primarily uses a combination of reference counting and cyclic garbage collection.  Reference counting tracks how many references point to an object. When the count drops to zero, the object's memory is reclaimed.  Cyclic garbage collection handles cases where objects reference each other, creating cycles that reference counting alone can't resolve.  It detects and collects these unreachable cycles, freeing up memory.  This automatic process simplifies memory management for developers.\n"
      ],
      "metadata": {
        "id": "m6QkPq15qL3n"
      }
    },
    {
      "cell_type": "markdown",
      "source": [
        "**Q16.**What is the purpose of exception handling in python?\n",
        "\n",
        "-->Exception handling in Python manages runtime errors, called exceptions.  `try` blocks contain code that might raise an exception. `except` blocks define how to handle specific exceptions, preventing program crashes and allowing for graceful recovery or alternative actions.  This makes programs more robust and user-friendly.\n"
      ],
      "metadata": {
        "id": "ZlqRsJhSqiGy"
      }
    },
    {
      "cell_type": "markdown",
      "source": [
        "**Q17**What are the common logging levels in python?\n",
        "\n",
        "--> Python's logging module defines several standard logging levels, each representing a different severity of event:\n",
        "\n",
        "*   **DEBUG:** Detailed information, typically used for debugging.\n",
        "*   **INFO:** General information about program execution.\n",
        "*   **WARNING:** Indicates a potential issue that might not be an immediate error.\n",
        "*   **ERROR:** Indicates a significant problem that prevents some part of the program from working correctly.\n",
        "*   **CRITICAL:** Indicates a severe error that may cause the program to terminate.\n",
        "\n",
        "These levels allow you to categorize log messages and control which messages are displayed or stored, making it easier to filter and prioritize information for debugging, monitoring, and analysis.\n"
      ],
      "metadata": {
        "id": "WHVgbKN1rD8Y"
      }
    },
    {
      "cell_type": "markdown",
      "source": [
        "**Q18**What is difference between os.fork() and multiprocessing in python?\n",
        "\n",
        "-->\n",
        "*   **`os.fork()`:**\n",
        "    *   Unix-like systems only (not Windows).\n",
        "    *   Low-level system call.\n",
        "    *   Creates a *copy* of the current process (parent/child).\n",
        "    *   Initially shares memory between parent and child.\n",
        "    *   Very efficient (avoids interpreter overhead).\n",
        "    *   Complex to use correctly, especially with threads.\n",
        "    *   Specialized use cases, efficiency critical.\n",
        "\n",
        "*   **`multiprocessing`:**\n",
        "    *   Cross-platform (including Windows).\n",
        "    *   Higher-level module.\n",
        "    *   Creates *new* Python interpreter for each process.\n",
        "    *   Separate memory spaces for each process.\n",
        "    *   Handles process creation and communication.\n",
        "    *   Easier to use than `fork()`.\n",
        "    *   Good for CPU-bound tasks, true parallelism.\n",
        "    *   Standard approach for general multiprocessing.\n"
      ],
      "metadata": {
        "id": "kvdIZpYgrxa9"
      }
    },
    {
      "cell_type": "markdown",
      "source": [
        "**Q19.**What is importance of closing file in python?\n",
        "\n",
        "-->Closing files in Python releases the file resource, preventing data corruption, ensuring data is written to disk, and freeing up system resources for other programs.  It's crucial for reliable file handling.\n"
      ],
      "metadata": {
        "id": "IbCo_leusc7C"
      }
    },
    {
      "cell_type": "markdown",
      "source": [
        "**Q20.**What is difference between file.read() and file.readline() in python?\n",
        "\n",
        "-->file.read() and file.readline() are both used to read data from a file in Python, but they differ in how much data they read:\n",
        "\n",
        "file.read(): Reads the entire contents of the file as a single string.  If a size argument is given (e.g., file.read(1024)), it reads up to that many bytes.  It's useful when you want the whole file content at once.\n",
        "\n",
        "file.readline(): Reads one line from the file. A line is defined by the newline character (\\n).  It returns the line as a string, including the newline character at the end (unless it's the last line and there's no newline).  It's useful for processing files line by line, especially large files that might not fit in memory."
      ],
      "metadata": {
        "id": "PCNJJ2Zjs1fA"
      }
    },
    {
      "cell_type": "markdown",
      "source": [
        "**Q21.**What is logging module in python used for?\n",
        "\n",
        "-->The `logging` module in Python is used for flexible event logging for applications.  It provides a way to record messages about program execution, categorized by severity (debug, info, warning, error, critical).  Instead of just printing to the console, logging allows you to direct output to files, format messages, and control which messages are logged based on their level. This is essential for debugging, monitoring, understanding program behavior, and tracking errors, especially in production environments.\n"
      ],
      "metadata": {
        "id": "lXNr21jouNwc"
      }
    },
    {
      "cell_type": "markdown",
      "source": [
        "**Q22.**What is the os module in python used for in file handling?\n",
        "\n",
        "-->Python's `os` module provides functions for interacting with the operating system, including file and directory management. It allows operations like renaming, deleting, creating, and listing files/directories.  While useful for managing file paths, existence, and metadata (size, modification time), `os` does *not* handle reading or writing file *content*.  For that, use Python's built-in `open()` function and file methods.  `os` is about file *organization*, not file *contents*.\n"
      ],
      "metadata": {
        "id": "uTk3j25Xuhv0"
      }
    },
    {
      "cell_type": "markdown",
      "source": [
        "**Q23.**What are the challenges associated with the memory mangement in python?\n",
        "\n",
        "-->While Python's automatic memory management simplifies development, challenges remain.  Garbage collection, while generally effective, can introduce unpredictable pauses (though improvements have been made).  Memory leaks can still occur, particularly with extension modules or circular references involving finalizers (`__del__`).  Large data structures can consume significant memory, requiring careful consideration.  Profiling and optimization might be necessary for memory-intensive applications.  Understanding memory usage patterns and potential bottlenecks is crucial for building scalable and performant Python applications, even with automatic garbage collection.\n"
      ],
      "metadata": {
        "id": "I6UKghQavOej"
      }
    },
    {
      "cell_type": "markdown",
      "source": [
        "**Q24.**How do you raise an exception manually in pthon?\n",
        "\n",
        "-->You manually raise exceptions in Python using the `raise` statement.  The syntax is `raise ExceptionClass(optional_message)`.  `ExceptionClass` specifies the exception type (e.g., `ValueError`, `TypeError`, or a custom exception). `optional_message` provides details about the error.  `raise` immediately halts normal execution and searches for a matching `except` block.  If none is found, the exception propagates up the call stack, eventually terminating the program if unhandled.  Manually raising exceptions is useful for signaling errors your code detects but can't directly resolve.  It allows calling functions to handle the situation and is also valuable for testing error handling mechanisms.  It allows explicit indication of problematic conditions.\n"
      ],
      "metadata": {
        "id": "hdrCBpM4vvHS"
      }
    },
    {
      "cell_type": "markdown",
      "source": [
        "**Q25.**Why is it important to use multithreading in certain applications?\n",
        "\n",
        "-->Multithreading is important in Python applications that involve waiting for input/output (I/O) operations, like network requests or file access. While one thread waits, others can perform other tasks, improving responsiveness.  It's useful for applications that need to handle multiple concurrent tasks, such as web servers or GUI applications. However, Python's Global Interpreter Lock (GIL) limits true parallelism for CPU-bound tasks, making multiprocessing a better choice for computationally intensive applications.\n"
      ],
      "metadata": {
        "id": "Lzi3EUdTwIkf"
      }
    },
    {
      "cell_type": "markdown",
      "source": [
        "# Practical Questions-"
      ],
      "metadata": {
        "id": "Ipm6WLuhZHYL"
      }
    },
    {
      "cell_type": "markdown",
      "source": [
        "**Q1.**How can you open a file for writing in python and write a string to it?"
      ],
      "metadata": {
        "id": "ToV4d6YqZRbU"
      }
    },
    {
      "cell_type": "code",
      "execution_count": null,
      "metadata": {
        "id": "3rOS0BNZYdi6"
      },
      "outputs": [],
      "source": [
        "file1= open(\"file1\",\"w\")"
      ]
    },
    {
      "cell_type": "code",
      "source": [
        "file1.write(\"Hello,I am Mahi\")"
      ],
      "metadata": {
        "id": "vk19iLd3a5ou",
        "colab": {
          "base_uri": "https://localhost:8080/"
        },
        "outputId": "8e26c40f-d6e0-42fe-cb6c-d0bf02e36dcd"
      },
      "execution_count": null,
      "outputs": [
        {
          "output_type": "execute_result",
          "data": {
            "text/plain": [
              "15"
            ]
          },
          "metadata": {},
          "execution_count": 9
        }
      ]
    },
    {
      "cell_type": "markdown",
      "source": [
        "**Q2.**Write a python program to read the contents of a file and print each line."
      ],
      "metadata": {
        "id": "fD1nP6UdhE4j"
      }
    },
    {
      "cell_type": "code",
      "source": [
        "#For reading a file it is necessary to close it first hence,\n",
        "file1.close()"
      ],
      "metadata": {
        "id": "rw5mbWL4hSu-"
      },
      "execution_count": null,
      "outputs": []
    },
    {
      "cell_type": "code",
      "source": [
        "file1= open(\"file1\",\"r\")\n",
        "print(file1.read())"
      ],
      "metadata": {
        "colab": {
          "base_uri": "https://localhost:8080/"
        },
        "id": "adc6Vmjno2Af",
        "outputId": "153905a6-e68a-4286-910d-44aa339cfb53"
      },
      "execution_count": null,
      "outputs": [
        {
          "output_type": "stream",
          "name": "stdout",
          "text": [
            "Hello,I am Mahi\n"
          ]
        }
      ]
    },
    {
      "cell_type": "markdown",
      "source": [
        " **Q3.**How would you handle a case where the file does not exits while trying to open it for reading ?"
      ],
      "metadata": {
        "id": "ttE2XCGDJ-Ca"
      }
    },
    {
      "cell_type": "code",
      "source": [
        "#by using try-except block for checking the existence of the file\n",
        "try:\n",
        "    with open(\"myfile.txt\", \"r\") as f:\n",
        "        contents = f.read()\n",
        "except FileNotFoundError:\n",
        "    print(\"Error: File not found.\")\n",
        "    contents = \"\"\n",
        "\n",
        "\n"
      ],
      "metadata": {
        "colab": {
          "base_uri": "https://localhost:8080/"
        },
        "id": "1yfAnet8KT4U",
        "outputId": "afb8462c-7807-4866-e6a8-7fdacd97ee16"
      },
      "execution_count": null,
      "outputs": [
        {
          "output_type": "stream",
          "name": "stdout",
          "text": [
            "Error: File not found.\n"
          ]
        }
      ]
    },
    {
      "cell_type": "markdown",
      "source": [
        "**Q4.**Write a python script that reads from one file and writes its content to another file."
      ],
      "metadata": {
        "id": "6Bb8uY28MSIh"
      }
    },
    {
      "cell_type": "code",
      "source": [
        "# Define the file paths\n",
        "input_file = 'input.txt'   # Path to the input file\n",
        "output_file = 'output.txt' # Path to the output file\n",
        "\n",
        "# Open the input file in read mode and the output file in write mode\n",
        "with open(input_file, 'r') as infile:\n",
        "    content = infile.read()\n",
        "\n",
        "# Write the content to the output file\n",
        "with open(output_file, 'w') as outfile:\n",
        "    outfile.write(content)\n",
        "\n",
        "print(f\"Content from {input_file} has been written to {output_file}.\")"
      ],
      "metadata": {
        "id": "ooqDoq-FQeGn"
      },
      "execution_count": null,
      "outputs": []
    },
    {
      "cell_type": "markdown",
      "source": [
        "**Q5.**How would you catch and handle division by zero error in pyhton?"
      ],
      "metadata": {
        "id": "a44n3bYUNv6s"
      }
    },
    {
      "cell_type": "code",
      "source": [
        "try:\n",
        "  100/0\n",
        "except ZeroDivisionError as e:\n",
        "  print(\"here I am handling an error,\",e)"
      ],
      "metadata": {
        "colab": {
          "base_uri": "https://localhost:8080/"
        },
        "id": "wXwdr4XKN_hz",
        "outputId": "c0d21477-c921-4b94-9efd-29e197e9da2f"
      },
      "execution_count": null,
      "outputs": [
        {
          "output_type": "stream",
          "name": "stdout",
          "text": [
            "here I am handling an error, division by zero\n"
          ]
        }
      ]
    },
    {
      "cell_type": "markdown",
      "source": [
        "**Q6.**Write a python program that logs an error message to a log file when a division by zero exception occurs."
      ],
      "metadata": {
        "id": "vACHcTK7OOx_"
      }
    },
    {
      "cell_type": "code",
      "source": [
        "import logging\n",
        "\n",
        "logging.basicConfig(filename='log.txt', level=logging.ERROR)\n",
        "\n",
        "def div(x, y):\n",
        "    try: return x / y\n",
        "    except ZeroDivisionError: logging.error(f\"Zero: {x}/{y}\")\n",
        "\n",
        "div(10, 0)\n",
        "div(20, 5)"
      ],
      "metadata": {
        "colab": {
          "base_uri": "https://localhost:8080/"
        },
        "id": "OUcE3a1lOpsG",
        "outputId": "bb079115-025b-487a-974b-5e4614a55c1b"
      },
      "execution_count": null,
      "outputs": [
        {
          "output_type": "stream",
          "name": "stderr",
          "text": [
            "ERROR:root:Zero: 10/0\n"
          ]
        },
        {
          "output_type": "execute_result",
          "data": {
            "text/plain": [
              "4.0"
            ]
          },
          "metadata": {},
          "execution_count": 10
        }
      ]
    },
    {
      "cell_type": "markdown",
      "source": [
        "**Q7.**How do you log information at different levels (INFO,ERROR,WARNING) in python using logging module?"
      ],
      "metadata": {
        "id": "GduI7ItvPEMg"
      }
    },
    {
      "cell_type": "code",
      "source": [
        "import logging\n",
        "\n",
        "# Set up basic configuration for logging\n",
        "logging.basicConfig(level=logging.INFO,\n",
        "                    format='%(asctime)s - %(levelname)s - %(message)s')\n",
        "\n",
        "\n",
        "# INFO level - general information\n",
        "logging.info(\"This is an info message.\")\n",
        "\n",
        "# WARNING level -\n",
        "logging.warning(\"This is a warning message.\")\n",
        "\n",
        "# ERROR level -\n",
        "logging.error(\"This is an error message\")\n"
      ],
      "metadata": {
        "colab": {
          "base_uri": "https://localhost:8080/"
        },
        "id": "a-ps16C2R6qd",
        "outputId": "eff213c6-e1a5-43d3-a3dc-9fc648acefd8"
      },
      "execution_count": null,
      "outputs": [
        {
          "output_type": "stream",
          "name": "stderr",
          "text": [
            "WARNING:root:This is a warning message.\n",
            "ERROR:root:This is an error message\n"
          ]
        }
      ]
    },
    {
      "cell_type": "markdown",
      "source": [
        "**Q8.**Write a program to handle a file opening error using eceptional handling."
      ],
      "metadata": {
        "id": "hP1bJZQ1SDFk"
      }
    },
    {
      "cell_type": "code",
      "source": [
        "try:\n",
        "    file_name = 'non_existent_file.txt'\n",
        "    with open(file_name, 'r') as file:\n",
        "        content = file.read()\n",
        "        print(content)\n",
        "\n",
        "# Handle specific file-related errors\n",
        "except FileNotFoundError:\n",
        "    print(f\"Error: The file '{file_name}' was not found.\")\n",
        "except PermissionError:\n",
        "    print(f\"Error: You do not have permission to read the file '{file_name}'.\")\n",
        "except Exception as e:\n",
        "    # Catch any other unexpected errors\n",
        "    print(f\"An unexpected error occurred: {e}\")\n",
        "\n",
        "finally:\n",
        "    print(\"File operation attempt finished.\")\n"
      ],
      "metadata": {
        "colab": {
          "base_uri": "https://localhost:8080/"
        },
        "id": "QU8CEdpMSYng",
        "outputId": "1f8f7b99-0bd3-4d6e-edc3-898af4c21d85"
      },
      "execution_count": null,
      "outputs": [
        {
          "output_type": "stream",
          "name": "stdout",
          "text": [
            "Error: The file 'non_existent_file.txt' was not found.\n",
            "File operation attempt finished.\n"
          ]
        }
      ]
    },
    {
      "cell_type": "markdown",
      "source": [
        "**Q9.**How do you read a file line by line and store its content in a list in python?"
      ],
      "metadata": {
        "id": "aBddPOi_Sn9q"
      }
    },
    {
      "cell_type": "code",
      "source": [
        "# creating a file first to make the process run smoothly.\n",
        "with open(file_path, 'w') as file:\n",
        "    file.write(\"Mahi, \")\n",
        "    file.write(\"Yash, \")\n",
        "    file.write(\"Jay\")\n",
        "\n",
        "def read_file_into_list(file_path):\n",
        "    try:\n",
        "        with open(file_path, 'r') as file:\n",
        "            lines = file.readlines()\n",
        "\n",
        "            lines = [line.strip() for line in lines]\n",
        "            return lines\n",
        "    except FileNotFoundError:\n",
        "        print(f\"Error: File '{file_path}' not found.\")\n",
        "        return []\n",
        "\n",
        "file_path = 'input_txt'\n",
        "content_list = read_file_into_list(file_path)\n",
        "\n",
        "if content_list:\n",
        "    print(f\"File content {file_path}:\")\n",
        "    for line in content_list:\n",
        "\n",
        "       line\n"
      ],
      "metadata": {
        "colab": {
          "base_uri": "https://localhost:8080/"
        },
        "id": "ZDrt6OYbZ7sL",
        "outputId": "063d3970-13f8-4346-b7a7-d6f2e21b5118"
      },
      "execution_count": null,
      "outputs": [
        {
          "output_type": "stream",
          "name": "stdout",
          "text": [
            "File content input_txt:\n"
          ]
        }
      ]
    },
    {
      "cell_type": "markdown",
      "source": [
        "**Q10.**How can you append data in an existing file in python?"
      ],
      "metadata": {
        "id": "u6LrVPfBc2xa"
      }
    },
    {
      "cell_type": "code",
      "source": [
        "with open(\"file2_path\", 'w') as file:\n",
        "    file.write(\"Mahi, \")\n",
        "\n",
        "def append_data_to_file(file2_path, new_data):\n",
        "    try:\n",
        "        with open(\"file2_path\", 'a') as file:\n",
        "            file.write(new_data)\n",
        "\n",
        "            print(f\"Data appended to '{file_path2}' successfully.\")\n",
        "    except Exception as e:\n",
        "        print(f\"An error occurred: {e}\")\n",
        "\n",
        "file2_path = 'input.txt2'\n",
        "new_data = 'Tashi, Riya'\n",
        "\n",
        "append_data_to_file(file2_path, new_data)\n"
      ],
      "metadata": {
        "colab": {
          "base_uri": "https://localhost:8080/"
        },
        "id": "GiXnMVy6ijr5",
        "outputId": "9ff2857d-bfdd-4afe-d2ec-545b972b53fa"
      },
      "execution_count": null,
      "outputs": [
        {
          "output_type": "stream",
          "name": "stdout",
          "text": [
            "Data appended to 'input.txt2' successfully.\n"
          ]
        }
      ]
    },
    {
      "cell_type": "markdown",
      "source": [
        "**Q11.**Write a python program that uses a try-except block to handle an error when attempting to access a dictionary key that does not exist."
      ],
      "metadata": {
        "id": "sJ-2_jcqfaVj"
      }
    },
    {
      "cell_type": "code",
      "source": [
        "def access_dictionary_key(dictionary, key):\n",
        "    try:\n",
        "        value = dictionary[key]\n",
        "        print(f\"Value for key '{key}': {value}\")\n",
        "    except KeyError:\n",
        "        print(f\"Error: key '{key}' does not exist in the dictionary.\")\n",
        "\n",
        "access_dictionary_key(my_dict, 'd')\n"
      ],
      "metadata": {
        "colab": {
          "base_uri": "https://localhost:8080/"
        },
        "id": "IR12GZ6El5eZ",
        "outputId": "4289ea2a-b50c-45da-a93f-4e9560678de4"
      },
      "execution_count": null,
      "outputs": [
        {
          "output_type": "stream",
          "name": "stdout",
          "text": [
            "Error: key 'd' does not exist in the dictionary.\n"
          ]
        }
      ]
    },
    {
      "cell_type": "markdown",
      "source": [
        "**Q12.**Write a program that demonstrates using multiple except blcks to handle different types of exceptions."
      ],
      "metadata": {
        "id": "6lv1ACfvmdmF"
      }
    },
    {
      "cell_type": "code",
      "source": [
        "def process(x):\n",
        "    try:\n",
        "        return 10 / int(x)\n",
        "    except ValueError:\n",
        "        return \"Invalid input\"\n",
        "    except ZeroDivisionError:\n",
        "        return \"Division by zero\"\n",
        "\n",
        "print(process(\"5\"))   # Output: 2.0\n",
        "print(process(\"0\"))   # Output: Division by zero\n",
        "print(process(\"abc\")) # Output: Invalid input"
      ],
      "metadata": {
        "colab": {
          "base_uri": "https://localhost:8080/"
        },
        "id": "latTxenxnoch",
        "outputId": "f75988da-c8e8-47d0-fcc0-dc7a78b5714b"
      },
      "execution_count": null,
      "outputs": [
        {
          "output_type": "stream",
          "name": "stdout",
          "text": [
            "2.0\n",
            "Division by zero\n",
            "Invalid input\n"
          ]
        }
      ]
    },
    {
      "cell_type": "markdown",
      "source": [
        "**Q13.**How would you check if a file exist before attempting to read it in python?"
      ],
      "metadata": {
        "id": "6zGM5UJ4n0JL"
      }
    },
    {
      "cell_type": "code",
      "source": [
        "import os\n",
        "\n",
        "file_path = \"data.txt\"\n",
        "\n",
        "if os.path.exists(file_path):\n",
        "    with open(file_path, \"r\") as f:\n",
        "        content = f.read()\n",
        "        print(content)\n",
        "else:\n",
        "    print(f\"File '{file_path}' not found.\")"
      ],
      "metadata": {
        "colab": {
          "base_uri": "https://localhost:8080/"
        },
        "id": "MO9PQBNLoLQm",
        "outputId": "13874195-58bf-44a7-cf74-95274f90b8b6"
      },
      "execution_count": null,
      "outputs": [
        {
          "output_type": "stream",
          "name": "stdout",
          "text": [
            "File 'data.txt' not found.\n"
          ]
        }
      ]
    },
    {
      "cell_type": "markdown",
      "source": [
        "**14.**Write a program that uses logging module to log both informational and error messages."
      ],
      "metadata": {
        "id": "__Y6JIFtoxAg"
      }
    },
    {
      "cell_type": "code",
      "source": [
        "import logging\n",
        "\n",
        "logging.basicConfig(filename='my_log.txt', level=logging.INFO, format='%(asctime)s - %(levelname)s - %(message)s')\n",
        "\n",
        "def divide(x,y):\n",
        "    logging.info(f\"dividing {x} by {y}\")\n",
        "    try:\n",
        "        result = x/y\n",
        "        logging.info(f\"Result: {result}\")\n",
        "        print(result)\n",
        "\n",
        "    except ZeroDivisionError:\n",
        "        logging.error(\"Division by zero!\")\n",
        "        return None\n",
        "\n",
        "divide(10,2)\n",
        "divide(5,0)"
      ],
      "metadata": {
        "colab": {
          "base_uri": "https://localhost:8080/"
        },
        "id": "TLfbeg3apLyy",
        "outputId": "cac0c788-586f-449e-b0cc-a41ce9355fab"
      },
      "execution_count": null,
      "outputs": [
        {
          "output_type": "stream",
          "name": "stderr",
          "text": [
            "ERROR:root:Division by zero!\n"
          ]
        },
        {
          "output_type": "stream",
          "name": "stdout",
          "text": [
            "5.0\n"
          ]
        }
      ]
    },
    {
      "cell_type": "markdown",
      "source": [
        "**Q15.**Write a python program that prints the contents of a file and handles the case when the file is empty."
      ],
      "metadata": {
        "id": "4_U4CuGOrH5W"
      }
    },
    {
      "cell_type": "code",
      "source": [
        "def print_file_contents(file_path):\n",
        "    \"\"\"Prints the contents of a file and handles empty files.\"\"\"\n",
        "    try:\n",
        "        with open(file_path, 'r') as file:\n",
        "            contents = file.read()\n",
        "            if contents:\n",
        "                print(contents)\n",
        "            else:\n",
        "                print(\"The file is empty.\")\n",
        "    except FileNotFoundError:\n",
        "        print(f\"Error: File '{file_path}' not found.\")\n",
        "    except Exception as e:\n",
        "        print(f\"An error occurred: {e}\")\n",
        "\n",
        "\n",
        "file_path = \"your_file.txt\"\n",
        "print_file_contents(file_path)\n"
      ],
      "metadata": {
        "colab": {
          "base_uri": "https://localhost:8080/"
        },
        "id": "jFHG4fG0tJ-6",
        "outputId": "23bb3811-b815-4c6b-dbc8-ed4b1b24fd14"
      },
      "execution_count": null,
      "outputs": [
        {
          "output_type": "stream",
          "name": "stdout",
          "text": [
            "Error: File 'your_file.txt' not found.\n"
          ]
        }
      ]
    },
    {
      "cell_type": "markdown",
      "source": [
        "**Q16.**Demonstrate how to use memory profiling to check the memory usage of small program."
      ],
      "metadata": {
        "id": "D9YCZL7JtVoD"
      }
    },
    {
      "cell_type": "code",
      "source": [
        "!pip install memory_profiler\n",
        "\n",
        "%load_ext memory_profiler\n",
        "\n",
        "%memit sum([i for i in range(10000)])\n",
        "\n",
        "from memory_profiler import profile # Importing the profile decorator\n",
        "\n",
        "@profile\n",
        "def my_function():\n",
        "    # Your code here\n",
        "    a = [1] * (2** 3)\n",
        "    b = [2] * (2 * 1 ** 7)\n",
        "    del b\n",
        "    return a\n",
        "my_function()"
      ],
      "metadata": {
        "colab": {
          "base_uri": "https://localhost:8080/"
        },
        "id": "74CZeeJjwKbG",
        "outputId": "283487cf-b6b5-4dd8-e52b-05583060172a"
      },
      "execution_count": null,
      "outputs": [
        {
          "output_type": "stream",
          "name": "stdout",
          "text": [
            "Requirement already satisfied: memory_profiler in /usr/local/lib/python3.11/dist-packages (0.61.0)\n",
            "Requirement already satisfied: psutil in /usr/local/lib/python3.11/dist-packages (from memory_profiler) (5.9.5)\n",
            "The memory_profiler extension is already loaded. To reload it, use:\n",
            "  %reload_ext memory_profiler\n",
            "peak memory: 155.00 MiB, increment: 0.00 MiB\n",
            "ERROR: Could not find file <ipython-input-90-c10994e634f1>\n",
            "NOTE: %mprun can only be used on functions defined in physical files, and not in the IPython environment.\n"
          ]
        },
        {
          "output_type": "execute_result",
          "data": {
            "text/plain": [
              "[1, 1, 1, 1, 1, 1, 1, 1]"
            ]
          },
          "metadata": {},
          "execution_count": 90
        }
      ]
    },
    {
      "cell_type": "markdown",
      "source": [
        "**Q17.**write a python program to create and write a list of numbers to a file, one number per line."
      ],
      "metadata": {
        "id": "ndPE1_NLxhDD"
      }
    },
    {
      "cell_type": "code",
      "source": [
        "def write_numbers(filename, numbers):\n",
        "    with open(filename, 'w') as f:\n",
        "        f.writelines(f\"{n}\\n\" for n in numbers)\n",
        "\n",
        "write_numbers(\"output.txt\", [1, 2, 3, 4, 5])\n"
      ],
      "metadata": {
        "id": "52AjTpC8x4vs"
      },
      "execution_count": 1,
      "outputs": []
    },
    {
      "cell_type": "markdown",
      "source": [
        "**Q18.**How would you implement a basic logging setup that logs to a file with roatation after 1MB."
      ],
      "metadata": {
        "id": "byUnFgrBZgO2"
      }
    },
    {
      "cell_type": "code",
      "source": [
        "import logging\n",
        "from logging.handlers import RotatingFileHandler\n",
        "\n",
        "def setup_logging(log_file=\"app.log\"):\n",
        "    logger = logging.getLogger(__name__)\n",
        "    logger.setLevel(logging.INFO)\n",
        "    handler = RotatingFileHandler(log_file, maxBytes=1024*1024, backupCount=5, encoding='utf-8')\n",
        "    handler.setFormatter(logging.Formatter('%(asctime)s - %(levelname)s - %(message)s'))\n",
        "    logger.addHandler(handler)\n",
        "    return logger\n",
        "\n",
        "logger = setup_logging()\n",
        "\n",
        "logger.info(\"Starting application...\")\n",
        "try:\n",
        "    1/0\n",
        "except Exception as e:\n",
        "    logger.exception(\"An error occurred: %s\", e)\n",
        "logger.warning(\"A warning message.\")"
      ],
      "metadata": {
        "colab": {
          "base_uri": "https://localhost:8080/"
        },
        "id": "sVUYGjJ9aVcx",
        "outputId": "ca2a6ff6-cd99-4ad8-faf0-5c99c2dbe11e"
      },
      "execution_count": 2,
      "outputs": [
        {
          "output_type": "stream",
          "name": "stderr",
          "text": [
            "INFO:__main__:Starting application...\n",
            "ERROR:__main__:An error occurred: division by zero\n",
            "Traceback (most recent call last):\n",
            "  File \"<ipython-input-2-50bce22219ff>\", line 16, in <cell line: 0>\n",
            "    1/0\n",
            "    ~^~\n",
            "ZeroDivisionError: division by zero\n",
            "WARNING:__main__:A warning message.\n"
          ]
        }
      ]
    },
    {
      "cell_type": "markdown",
      "source": [
        "**Q19.**Write a program that handles both IndexError and KeyError using a try- except block."
      ],
      "metadata": {
        "id": "NBZ56w7Ca11Z"
      }
    },
    {
      "cell_type": "code",
      "source": [
        "\n",
        "def handle_errors(data):\n",
        "    try:\n",
        "        value = data[5]\n",
        "        print(value['key'])\n",
        "    except IndexError:\n",
        "        print(\"An IndexError occurred.\")\n",
        "    except KeyError:\n",
        "        print(\"A KeyError occurred.\")\n",
        "    except Exception as e:\n",
        "        print(f\"An unexpected error occurred: {e}\")\n",
        "\n",
        "my_list = [1,2,3,4]\n",
        "my_dict = {'a': 1, 'b': 2, 'c': 3}\n",
        "\n",
        "handle_errors(my_list)\n",
        "handle_errors(my_dict)\n"
      ],
      "metadata": {
        "colab": {
          "base_uri": "https://localhost:8080/"
        },
        "id": "AL6tR56gbLg3",
        "outputId": "193282e3-6957-4b37-9a83-7bf97f6b373b"
      },
      "execution_count": 3,
      "outputs": [
        {
          "output_type": "stream",
          "name": "stdout",
          "text": [
            "An IndexError occurred.\n",
            "A KeyError occurred.\n"
          ]
        }
      ]
    },
    {
      "cell_type": "markdown",
      "source": [
        "**Q20.**How would you open a file and read its content using context manager in python?"
      ],
      "metadata": {
        "id": "8m5xAhnqbocI"
      }
    },
    {
      "cell_type": "code",
      "source": [
        "def read_file(filename):\n",
        "    try:\n",
        "        with open(filename, 'r', encoding='utf-8') as f:\n",
        "            return f.read()\n",
        "    except Exception as e:\n",
        "        print(f\"Error: {e}\")\n",
        "        return None\n",
        "\n",
        "content = read_file(\"my_file.txt\")\n",
        "if content:\n",
        "    print(content)"
      ],
      "metadata": {
        "colab": {
          "base_uri": "https://localhost:8080/"
        },
        "id": "tneaBZ7ncIWZ",
        "outputId": "cbb15ba1-b58b-4b78-b03b-888286d559f2"
      },
      "execution_count": 4,
      "outputs": [
        {
          "output_type": "stream",
          "name": "stdout",
          "text": [
            "Error: [Errno 2] No such file or directory: 'my_file.txt'\n"
          ]
        }
      ]
    },
    {
      "cell_type": "markdown",
      "source": [
        "**Q21.**Write a python program that reads a file and prints the number of occurence of the specific word."
      ],
      "metadata": {
        "id": "6EuI0XI_cJ3a"
      }
    },
    {
      "cell_type": "code",
      "source": [
        "\n",
        "def word_count(filename, word):\n",
        "    \"\"\"Counts the occurrences of a specific word in a file.\"\"\"\n",
        "    try:\n",
        "        with open(filename, 'r') as file:\n",
        "            content = file.read()\n",
        "            words = content.lower().split()\n",
        "            count = words.count(word.lower())\n",
        "            return count\n",
        "    except FileNotFoundError:\n",
        "        print(f\"Error: File '{filename}' not found.\")\n",
        "        return 0\n",
        "\n",
        "filename = \"your_file.txt\"\n",
        "word = \"Mahi\"\n",
        "occurrences = word_count(filename, word)\n",
        "print(f\"The word '{word}' appears {occurrences} times in the file.\")\n"
      ],
      "metadata": {
        "colab": {
          "base_uri": "https://localhost:8080/"
        },
        "id": "xpQtwFY9dElC",
        "outputId": "8fa7dfaf-af77-4faa-e39a-f65849596bde"
      },
      "execution_count": 5,
      "outputs": [
        {
          "output_type": "stream",
          "name": "stdout",
          "text": [
            "Error: File 'your_file.txt' not found.\n",
            "The word 'Mahi' appears 0 times in the file.\n"
          ]
        }
      ]
    },
    {
      "cell_type": "markdown",
      "source": [
        "**Q22.**How can you check if file is empty before attempting to read its content."
      ],
      "metadata": {
        "id": "v9P8vEQnddDb"
      }
    },
    {
      "cell_type": "code",
      "source": [
        "with open(\"empty_file\",\"w\") as file:\n",
        "    file.write(\"\")\n",
        "\n",
        "def print_file_contents(file_path):\n",
        "    \"\"\"Prints the contents of a file and handles empty files.\"\"\"\n",
        "    try:\n",
        "        with open(file_path, 'r') as file:\n",
        "            contents = file.read()\n",
        "            if contents:\n",
        "                print(contents)\n",
        "            else:\n",
        "                print(\"The file is empty.\")\n",
        "    except FileNotFoundError:\n",
        "        print(f\"Error: File '{file_path}' not found.\")\n",
        "    except Exception as e:\n",
        "        print(f\"An error occurred: {e}\")\n",
        "\n",
        "file_path = \"your_file.txt\"\n",
        "print_file_contents(file_path)\n"
      ],
      "metadata": {
        "colab": {
          "base_uri": "https://localhost:8080/"
        },
        "id": "8TPDhEc5drCO",
        "outputId": "5e09f0fb-c1dd-44b9-cf24-7d0623bc4eb3"
      },
      "execution_count": 19,
      "outputs": [
        {
          "output_type": "stream",
          "name": "stdout",
          "text": [
            "Error: File 'your_file.txt' not found.\n"
          ]
        }
      ]
    },
    {
      "cell_type": "markdown",
      "source": [
        "**Q23.**Write a python program that writes to a log file when an error occurs during file handling."
      ],
      "metadata": {
        "id": "fzcj_Fdrf57B"
      }
    },
    {
      "cell_type": "code",
      "source": [
        "import logging\n",
        "\n",
        "logging.basicConfig(filename='my_log.log', level=logging.ERROR, format='%(levelname)s: %(message)s')\n",
        "\n",
        "def process_data(data):\n",
        "    try:\n",
        "        value = int(data)\n",
        "\n",
        "        return value * 2\n",
        "    except ValueError:\n",
        "        logging.error(f\"Invalid data: {data}\")  # Log the error\n",
        "        return None\n",
        "    except Exception as e:\n",
        "        logging.error(f\"An error occurred: {e}\")\n",
        "        return None\n",
        "\n",
        "result1 = process_data(\"10\")\n",
        "if result1 is not None:\n",
        "    print(f\"Result 1: {result1}\")\n",
        "\n",
        "result2 = process_data(\"abc\")\n",
        "if result2 is not None:\n",
        "    print(f\"Result 2: {result2}\")\n",
        "\n",
        "result3 = process_data(\"5\")\n",
        "if result3 is not None:\n",
        "    print(f\"Result 3: {result3}\")\n",
        "\n",
        "print(\"Done.\")"
      ],
      "metadata": {
        "colab": {
          "base_uri": "https://localhost:8080/"
        },
        "id": "TFy9HzlFgQcb",
        "outputId": "a99b4ae3-db92-4fca-d5fc-7d137e55453f"
      },
      "execution_count": 20,
      "outputs": [
        {
          "output_type": "stream",
          "name": "stderr",
          "text": [
            "ERROR:root:Invalid data: abc\n"
          ]
        },
        {
          "output_type": "stream",
          "name": "stdout",
          "text": [
            "Result 1: 20\n",
            "Result 3: 10\n",
            "Done.\n"
          ]
        }
      ]
    }
  ]
}